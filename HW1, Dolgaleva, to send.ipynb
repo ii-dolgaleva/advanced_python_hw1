{
 "cells": [
  {
   "cell_type": "markdown",
   "metadata": {},
   "source": [
    "# \"Продвинутый Python\". Магистерская программа ВШЭ."
   ]
  },
  {
   "cell_type": "markdown",
   "metadata": {},
   "source": [
    "**Цель курса**: получить предстваление о принципах создания сервисов и реализовать их в собственном ML-проекте.\n",
    "\n",
    "**Ключевые навыки**: ООП, Django, luigi"
   ]
  },
  {
   "cell_type": "markdown",
   "metadata": {},
   "source": [
    "### Отчётность\n",
    "\n",
    "Зачётные баллы будут даваться за:\n",
    "\n",
    "1) __Курсовой проект__ \n",
    "\n",
    "В курсовом проекте необходимо будет сделать сервис, например, для решения какой-нибудь ML-задачи (но не обязательно). Список требований к сервису будет озвучен позже. За проект можно получить до **6 баллов**, причем проект должен сдаваться не за один раз. \n",
    "\n",
    "2) __Контрольные работы, контесты__ (но это не точно)\n",
    "\n",
    "Проводятся на занятиях. Могут принести до **2 баллов**.\n",
    "\n",
    "3) __Домашние задания__\n",
    "\n",
    "Могут принести неопределенное количество баллов.\n",
    "\n",
    "4) __Задания на занятии__\n",
    "\n",
    "Несложные задания за мелкие баллы.\n",
    "\n",
    "Суммарно можно будет **получить больше 10 баллов**. **Баллов хватит на всех :)**\n",
    "\n",
    "Все задачи должны быть оформлены в соответствии с PEP 8."
   ]
  },
  {
   "cell_type": "markdown",
   "metadata": {},
   "source": [
    "## Занятие №0. Core libraries. Разминка."
   ]
  },
  {
   "cell_type": "code",
   "execution_count": 1,
   "metadata": {
    "collapsed": true
   },
   "outputs": [],
   "source": [
    "import sys"
   ]
  },
  {
   "cell_type": "markdown",
   "metadata": {},
   "source": [
    "**Как получить путь к интерпретатору?**"
   ]
  },
  {
   "cell_type": "code",
   "execution_count": 2,
   "metadata": {
    "collapsed": false
   },
   "outputs": [
    {
     "data": {
      "text/plain": [
       "'/Users/Irina/anaconda/bin/python'"
      ]
     },
     "execution_count": 2,
     "metadata": {},
     "output_type": "execute_result"
    }
   ],
   "source": [
    "sys.executable"
   ]
  },
  {
   "cell_type": "markdown",
   "metadata": {},
   "source": [
    "**Как узнать, где ищутся модули для импорта?**"
   ]
  },
  {
   "cell_type": "code",
   "execution_count": 3,
   "metadata": {
    "collapsed": false
   },
   "outputs": [
    {
     "data": {
      "text/plain": [
       "['',\n",
       " '/Users/Irina/anaconda/lib/python36.zip',\n",
       " '/Users/Irina/anaconda/lib/python3.6',\n",
       " '/Users/Irina/anaconda/lib/python3.6/lib-dynload',\n",
       " '/Users/Irina/.local/lib/python3.6/site-packages',\n",
       " '/Users/Irina/anaconda/lib/python3.6/site-packages',\n",
       " '/Users/Irina/anaconda/lib/python3.6/site-packages/Sphinx-1.5.1-py3.6.egg',\n",
       " '/Users/Irina/anaconda/lib/python3.6/site-packages/aeosa',\n",
       " '/Users/Irina/anaconda/lib/python3.6/site-packages/wing-0.1.4-py3.6.egg',\n",
       " '/Users/Irina/anaconda/lib/python3.6/site-packages/IPython/extensions',\n",
       " '/Users/Irina/.ipython']"
      ]
     },
     "execution_count": 3,
     "metadata": {},
     "output_type": "execute_result"
    }
   ],
   "source": [
    "sys.path"
   ]
  },
  {
   "cell_type": "markdown",
   "metadata": {},
   "source": [
    "**Что может помочь написать кросс-платформенный код?**"
   ]
  },
  {
   "cell_type": "code",
   "execution_count": 4,
   "metadata": {
    "collapsed": false
   },
   "outputs": [
    {
     "data": {
      "text/plain": [
       "'darwin'"
      ]
     },
     "execution_count": 4,
     "metadata": {},
     "output_type": "execute_result"
    }
   ],
   "source": [
    "sys.platform"
   ]
  },
  {
   "cell_type": "markdown",
   "metadata": {},
   "source": [
    "**Как перенаправить поток вывода?**"
   ]
  },
  {
   "cell_type": "code",
   "execution_count": 5,
   "metadata": {
    "collapsed": true
   },
   "outputs": [],
   "source": [
    "with open('log.txt', 'w') as f:\n",
    "    print(2, file=f)"
   ]
  },
  {
   "cell_type": "markdown",
   "metadata": {},
   "source": [
    "### Задача №0"
   ]
  },
  {
   "cell_type": "markdown",
   "metadata": {},
   "source": [
    "Вывести распределение слов в Zen of Python."
   ]
  },
  {
   "cell_type": "code",
   "execution_count": 6,
   "metadata": {
    "collapsed": false,
    "scrolled": true
   },
   "outputs": [],
   "source": [
    "from io import StringIO\n",
    "\n",
    "import sys"
   ]
  },
  {
   "cell_type": "markdown",
   "metadata": {},
   "source": [
    "Перенаправим поток вывода в переменную"
   ]
  },
  {
   "cell_type": "code",
   "execution_count": 7,
   "metadata": {
    "collapsed": true
   },
   "outputs": [],
   "source": [
    "stdout = sys.stdout\n",
    "\n",
    "text_from_this = StringIO()\n",
    "sys.stdout = text_from_this"
   ]
  },
  {
   "cell_type": "markdown",
   "metadata": {},
   "source": [
    "Запишем Zen of Python в переменную `text_from_this` и вернем консольный вывод"
   ]
  },
  {
   "cell_type": "code",
   "execution_count": 8,
   "metadata": {
    "collapsed": true
   },
   "outputs": [],
   "source": [
    "import this"
   ]
  },
  {
   "cell_type": "code",
   "execution_count": 9,
   "metadata": {
    "collapsed": true
   },
   "outputs": [],
   "source": [
    "sys.stdout = stdout "
   ]
  },
  {
   "cell_type": "code",
   "execution_count": 10,
   "metadata": {
    "collapsed": true
   },
   "outputs": [],
   "source": [
    "import re\n",
    "from collections import Counter, OrderedDict"
   ]
  },
  {
   "cell_type": "code",
   "execution_count": 11,
   "metadata": {
    "collapsed": true
   },
   "outputs": [],
   "source": [
    "mapping_rules = {\n",
    "    \"[-.\\n,*!]\": \" \",\n",
    "    \"n't\": \" not\",\n",
    "    \"'re\": \" are\",\n",
    "    \"it's\": \"it is\",\n",
    "    \"let's\": \"let us\"\n",
    "}"
   ]
  },
  {
   "cell_type": "markdown",
   "metadata": {},
   "source": [
    "Подумайте, в чем непотимальность следующего блока? Как сделать оптимальным?"
   ]
  },
  {
   "cell_type": "code",
   "execution_count": 12,
   "metadata": {
    "collapsed": true
   },
   "outputs": [],
   "source": [
    "zen_string = text_from_this.getvalue().lower()\n",
    "\n",
    "for rule in mapping_rules:\n",
    "    zen_string = re.sub(rule, mapping_rules[rule], zen_string)"
   ]
  },
  {
   "cell_type": "code",
   "execution_count": 13,
   "metadata": {
    "collapsed": false,
    "scrolled": true
   },
   "outputs": [
    {
     "data": {
      "text/plain": [
       "[('is', 11),\n",
       " ('better', 8),\n",
       " ('than', 8),\n",
       " ('the', 6),\n",
       " ('to', 5),\n",
       " ('of', 3),\n",
       " ('are', 3),\n",
       " ('although', 3),\n",
       " ('never', 3),\n",
       " ('be', 3),\n",
       " ('one', 3),\n",
       " ('it', 3),\n",
       " ('idea', 3),\n",
       " ('complex', 2),\n",
       " ('special', 2),\n",
       " ('not', 2),\n",
       " ('should', 2),\n",
       " ('unless', 2),\n",
       " ('obvious', 2),\n",
       " ('way', 2),\n",
       " ('do', 2),\n",
       " ('may', 2),\n",
       " ('now', 2),\n",
       " ('if', 2),\n",
       " ('implementation', 2),\n",
       " ('explain', 2),\n",
       " ('a', 2),\n",
       " ('zen', 1),\n",
       " ('python', 1),\n",
       " ('by', 1),\n",
       " ('tim', 1),\n",
       " ('peters', 1),\n",
       " ('beautiful', 1),\n",
       " ('ugly', 1),\n",
       " ('explicit', 1),\n",
       " ('implicit', 1),\n",
       " ('simple', 1),\n",
       " ('complicated', 1),\n",
       " ('flat', 1),\n",
       " ('nested', 1),\n",
       " ('sparse', 1),\n",
       " ('dense', 1),\n",
       " ('readability', 1),\n",
       " ('counts', 1),\n",
       " ('cases', 1),\n",
       " ('enough', 1),\n",
       " ('break', 1),\n",
       " ('rules', 1),\n",
       " ('practicality', 1),\n",
       " ('beats', 1),\n",
       " ('purity', 1),\n",
       " ('errors', 1),\n",
       " ('pass', 1),\n",
       " ('silently', 1),\n",
       " ('explicitly', 1),\n",
       " ('silenced', 1),\n",
       " ('in', 1),\n",
       " ('face', 1),\n",
       " ('ambiguity', 1),\n",
       " ('refuse', 1),\n",
       " ('temptation', 1),\n",
       " ('guess', 1),\n",
       " ('there', 1),\n",
       " ('and', 1),\n",
       " ('preferably', 1),\n",
       " ('only', 1),\n",
       " ('that', 1),\n",
       " ('at', 1),\n",
       " ('first', 1),\n",
       " ('you', 1),\n",
       " ('dutch', 1),\n",
       " ('often', 1),\n",
       " ('right', 1),\n",
       " ('hard', 1),\n",
       " ('bad', 1),\n",
       " ('easy', 1),\n",
       " ('good', 1),\n",
       " ('namespaces', 1),\n",
       " ('honking', 1),\n",
       " ('great', 1),\n",
       " ('let', 1),\n",
       " ('us', 1),\n",
       " ('more', 1),\n",
       " ('those', 1)]"
      ]
     },
     "execution_count": 13,
     "metadata": {},
     "output_type": "execute_result"
    }
   ],
   "source": [
    "words_distribution = Counter(zen_string.split())\n",
    "words_distribution.most_common()"
   ]
  },
  {
   "cell_type": "markdown",
   "metadata": {},
   "source": [
    "### Домашнее задание №0 [0.2 балла]"
   ]
  },
  {
   "cell_type": "markdown",
   "metadata": {},
   "source": [
    "**Условие**:\n",
    "\n",
    "Функция `delete_zeros_from_array` принимает на вход массив целых чисел из промежутка [0; 5] и удалает из него все _нули_. Алгоритм должен иметь сложность `O(N)`, где N - длина массива, и использовать `O(1)` дополнительной памяти.\n",
    "\n",
    "Построить **графики** зависимости времени работы алгоритма от количества элементов в нем. \n",
    "\n",
    "**Примечания**:\n",
    "\n",
    "1) Для наглядности лучше генерить массивы, в которых количество удаляемых элементов **больше трети** от всех элементов.\n",
    "\n",
    "2) В такой постановке можно проверить, как разработчик выбирает имена переменных и думает ли о функции глобально. Например, следующим вопросом было бы \"А что если хотим удалять единицы?\""
   ]
  },
  {
   "cell_type": "code",
   "execution_count": 14,
   "metadata": {
    "collapsed": true
   },
   "outputs": [],
   "source": [
    "%matplotlib inline\n",
    "import matplotlib.pyplot as plt\n",
    "import numpy as np\n",
    "import time"
   ]
  },
  {
   "cell_type": "code",
   "execution_count": 15,
   "metadata": {
    "collapsed": false
   },
   "outputs": [],
   "source": [
    "def generate_int_array(size, element, p_elem):\n",
    "    \"\"\"\n",
    "        This function generates array of integers in range [0, 5] with given probability \n",
    "        of definite element in range [0, 5]. The remaining elements are generated\n",
    "        from uniform distribution.\n",
    "        \n",
    "        :param size: Size of array\n",
    "        :type size: int\n",
    "        \n",
    "        :param element: Element in range [0, 5] with given probability \n",
    "        :type element: int\n",
    "        \n",
    "        :param p_elem: Probability of element, in [0,1]\n",
    "        :type p_elem: float\n",
    "        \n",
    "        :returns: New random array if range [0, 5] with probability p_elem for element.\n",
    "        :rtype: list\n",
    "    \"\"\"\n",
    "    try:\n",
    "        size = int(size)\n",
    "        element = int(element)\n",
    "        p_elem = float(p_elem)\n",
    "    except ValueError:\n",
    "        print(\"Wrong number type\")\n",
    "        raise\n",
    "\n",
    "    if size <= 0:\n",
    "        raise ValueError('size should be positive')\n",
    "    if (element < 0) or (element > 5):\n",
    "        raise ValueError('element should be in range [0,5]')\n",
    "    if (p_elem < 0) or (p_elem > 1):\n",
    "        raise ValueError('p_elem should be in range [0,1]')\n",
    "\n",
    "    np.random.seed(123)\n",
    "    elements = list(range(6))\n",
    "    p_not_elem = (1 - p_elem) / (len(elements) - 1)\n",
    "    probabilities = []\n",
    "    for e in elements:\n",
    "        if e == element:\n",
    "            probabilities.append(p_elem)\n",
    "        else:\n",
    "            probabilities.append(p_not_elem)\n",
    "    return np.random.choice(elements, size, p=probabilities)\n",
    "\n",
    "\n",
    "# generate_int_array(32, 3, 0.4)"
   ]
  },
  {
   "cell_type": "code",
   "execution_count": 16,
   "metadata": {
    "collapsed": false,
    "scrolled": true
   },
   "outputs": [
    {
     "data": {
      "text/plain": [
       "[1, 2, 4, 4, 4, 3, 1, 4, 4, 4]"
      ]
     },
     "execution_count": 16,
     "metadata": {},
     "output_type": "execute_result"
    }
   ],
   "source": [
    "def delete_zeros_from_array(array):\n",
    "    \"\"\"\n",
    "        This function deletes all elements that equal to 0 from array. \n",
    "        \n",
    "        :param array: Input array\n",
    "        :type array: list\n",
    "        \n",
    "        :returns: New array without 0 with the other elements in the same order\n",
    "        :rtype: list\n",
    "    \"\"\"\n",
    "    len_arr = len(array)\n",
    "    counter = 0\n",
    "    idx_e = 0\n",
    "    idx = 0\n",
    "    i = 0\n",
    "    \n",
    "    while (i < len_arr):\n",
    "        if array[i] == 0:\n",
    "            idx_e = i\n",
    "        else:\n",
    "            idx = i\n",
    "\n",
    "        while (array[i] == 0):\n",
    "            counter = counter + 1\n",
    "            i = i + 1\n",
    "            if i == len_arr:\n",
    "                return array[:(len_arr - counter)]\n",
    "\n",
    "        idx = i\n",
    "            \n",
    "        if (idx > idx_e) and (counter > 0):\n",
    "            array[idx - counter] = array[idx]\n",
    "            array[idx] = 0\n",
    "            idx_e = i\n",
    "        \n",
    "        i = i + 1\n",
    "            \n",
    "    return array[:(len_arr - counter)]\n",
    "            \n",
    "# delete_zeros_from_array([1,0,0,3,3])\n",
    "# delete_zeros_from_array([1,0,3,3])\n",
    "# delete_zeros_from_array([1,0,3,0,3])\n",
    "# delete_zeros_from_array([0, 1, 2, 0, 0, 3, 0])\n",
    "# delete_zeros_from_array([0,0, 1,1, 2, 0,0, 6, 0, 1,1,0,2,0,0,0])\n",
    "# delete_zeros_from_array([1,2,4,0,4,4,3,1,4,4,4])\n",
    "delete_zeros_from_array([1,2,4,4,4,3,1,4,4,4,0])"
   ]
  },
  {
   "cell_type": "code",
   "execution_count": 17,
   "metadata": {
    "collapsed": true
   },
   "outputs": [],
   "source": [
    "def graphs(func, element):\n",
    "    \"\"\"\n",
    "        This function deletes all elements that equal to element from array. \n",
    "        \n",
    "        :param array: Input array\n",
    "        :type array: list\n",
    "        \n",
    "        :returns: New array without element with the other elements in the same order\n",
    "        :rtype: list\n",
    "    \"\"\"\n",
    "    lens = np.linspace(10, 10000, num=100, dtype=int)\n",
    "    times = []\n",
    "\n",
    "    for i in lens:\n",
    "        array = list(generate_int_array(i, element, 0.5))\n",
    "        st = time.time()\n",
    "        res = func(array)\n",
    "        et = time.time()\n",
    "        times.append((et - st) * 1000)\n",
    "\n",
    "    plt.figure(figsize=(15, 7))\n",
    "    plt.title('Function run time depending on the length of the arrays')\n",
    "    plt.ylabel('Time in ms')\n",
    "    plt.xlabel('The length of array')\n",
    "    plt.plot(lens, times)"
   ]
  },
  {
   "cell_type": "code",
   "execution_count": 18,
   "metadata": {
    "collapsed": false
   },
   "outputs": [
    {
     "data": {
      "image/png": "[encoded data removed]",
      "text/plain": [
       "<Figure size 1080x504 with 1 Axes>"
      ]
     },
     "metadata": {},
     "output_type": "display_data"
    }
   ],
   "source": [
    "graphs(delete_zeros_from_array, 0)"
   ]
  },
  {
   "cell_type": "code",
   "execution_count": 19,
   "metadata": {
    "collapsed": false
   },
   "outputs": [],
   "source": [
    "from functools import partial\n",
    "\n",
    "\n",
    "def delete_elements_from_array(array, element):\n",
    "    \"\"\"\n",
    "        This function deletes all elements that equal to element from array. \n",
    "        \n",
    "        :param array: Input array\n",
    "        :type array: list\n",
    "        :param element: Element that must be deleted from array\n",
    "        :type element: int\n",
    "        \n",
    "        :returns: New array without element with the other elements in the same order\n",
    "        :rtype: list\n",
    "    \"\"\"\n",
    "    len_arr = len(array)\n",
    "    counter = 0\n",
    "    idx_e = 0\n",
    "    idx = 0\n",
    "    i = 0\n",
    "\n",
    "    while (i < len_arr):\n",
    "        if array[i] == element:\n",
    "            idx_e = i\n",
    "        else:\n",
    "            idx = i\n",
    "\n",
    "        while (array[i] == element):\n",
    "            counter = counter + 1\n",
    "            i = i + 1\n",
    "            if i == len_arr:\n",
    "                return array[:(len_arr - counter)]\n",
    "\n",
    "        idx = i\n",
    "\n",
    "        if (idx > idx_e) and (counter > 0):\n",
    "            array[idx - counter] = array[idx]\n",
    "            array[idx] = element\n",
    "            idx_e = i\n",
    "\n",
    "        i = i + 1\n",
    "\n",
    "    return array[:(len_arr - counter)]\n",
    "\n",
    "\n",
    "delete_zeros_from_array_part = partial(delete_elements_from_array, element=0)\n",
    "# delete_zeros_from_array_part([1,2,4,0,4,4,3,1,4,4,4], element=3)"
   ]
  },
  {
   "cell_type": "code",
   "execution_count": 20,
   "metadata": {
    "collapsed": false
   },
   "outputs": [
    {
     "data": {
      "image/png": "[encoded data removed]",
      "text/plain": [
       "<Figure size 1080x504 with 1 Axes>"
      ]
     },
     "metadata": {},
     "output_type": "display_data"
    }
   ],
   "source": [
    "graphs(delete_zeros_from_array_part, 1)"
   ]
  },
  {
   "cell_type": "markdown",
   "metadata": {},
   "source": [
    "Зачем нужна doc string? \n",
    "\n",
    "__Ответ:__ doc string нужны для того, чтобы создавать автоматическую документацию для модулей, функций, классов и методов. "
   ]
  },
  {
   "cell_type": "markdown",
   "metadata": {},
   "source": [
    "Как её посмотерть?"
   ]
  },
  {
   "cell_type": "code",
   "execution_count": 21,
   "metadata": {
    "collapsed": false
   },
   "outputs": [
    {
     "name": "stdout",
     "output_type": "stream",
     "text": [
      "\n",
      "        This function deletes all elements that equal to element from array. \n",
      "        \n",
      "        :param array: Input array\n",
      "        :type array: list\n",
      "        \n",
      "        :returns: New array without element with the other elements in the same order\n",
      "        :rtype: list\n",
      "    \n"
     ]
    }
   ],
   "source": [
    "print(graphs.__doc__)"
   ]
  },
  {
   "cell_type": "markdown",
   "metadata": {},
   "source": [
    "### Домашнее задание №1 [0.05 балла]\n",
    "\n",
    "**Условие**:\n",
    "\n",
    "Написать функцию (-и), которая принимает на вход 3 комплексных числа и выводит минимальное из них по модулю без использования функций min, max, sort и т.д.\n",
    "\n",
    "\n",
    "**Комментарии**:\n",
    "\n",
    "1) В процессе сдачи задания, можно будет получить дополнительные баллы\n",
    "\n",
    "2) Код должен быть пригоден для промышленного использования"
   ]
  },
  {
   "cell_type": "code",
   "execution_count": 22,
   "metadata": {
    "collapsed": true
   },
   "outputs": [],
   "source": [
    "def calculate_module(number):\n",
    "    \"\"\" \n",
    "        Find the module of complex number.\n",
    "        \n",
    "        :param number: Input complex number\n",
    "        :type number: {int, float, complex}\n",
    "        \n",
    "        :returns: The module of number\n",
    "        :rtype: float\n",
    "    \"\"\"\n",
    "    if not isinstance(number, (int, float, complex)):\n",
    "        raise TypeError(\"Wrong number type for %s \" % number)\n",
    "    return np.sqrt(number.real**2 + number.imag**2)\n",
    "\n",
    "\n",
    "# calculate_module(9+8j)"
   ]
  },
  {
   "cell_type": "code",
   "execution_count": 23,
   "metadata": {
    "collapsed": false
   },
   "outputs": [],
   "source": [
    "def find_min(n1, n2, n3):\n",
    "    \"\"\"\n",
    "        Find the number with minimum module among 3 complex numbers.\n",
    "        \n",
    "        :param n1: Input complex number 1\n",
    "        :type n1: {int, float, complex}\n",
    "        \n",
    "        :param n2: Input complex number 2\n",
    "        :type n2: {int, float, complex}\n",
    "        \n",
    "        :param n3: Input complex number 3\n",
    "        :type n3: {int, float, complex}\n",
    "        \n",
    "        :returns: The number (n1, n2 or n3) with the minimum module \n",
    "        :rtype: float\n",
    "    \"\"\"\n",
    "    nums = [n1, n2, n3]\n",
    "    for n in nums:\n",
    "        if not isinstance(n, (int, float, complex)):\n",
    "            raise ValueError(\"Wrong number type for %s \" % n)\n",
    "\n",
    "    min_sq_mod = calculate_module(nums[0])\n",
    "    min_sq_mod_id = 0\n",
    "    for i, n in enumerate(nums[1:]):\n",
    "        cur_sq_mod = calculate_module(n)\n",
    "        if (cur_sq_mod < min_sq_mod):\n",
    "            min_sq_mod = cur_sq_mod\n",
    "            min_sq_mod_id = i + 1\n",
    "\n",
    "    return nums[min_sq_mod_id]\n",
    "\n",
    "\n",
    "# find_min(-3 + 9j, None, complex(1, 2))\n",
    "# find_min(-3 + 9j, 3 + 6j, complex(1, 2))\n",
    "# find_min(3,\"[4,3]\",90j+1)\n",
    "# find_min(np.inf,np.inf,np.inf)"
   ]
  },
  {
   "cell_type": "markdown",
   "metadata": {},
   "source": [
    "### Домашнее задание №2 [0.18 балла]"
   ]
  },
  {
   "cell_type": "markdown",
   "metadata": {},
   "source": [
    "**Условие**:\n",
    "\n",
    "Вы - банкомат, который работает по следующей схеме: считывает номер вставленной в него карты, парсит его на 4 равные части и генерирует 4 числа Фибоначчи с номерами, соответствущими распаршенным частям. Затем генерирует числа из всевозможных перестановок полученных чисел Фибоначчи (конкатенацией).\n",
    "\n",
    "Для каждого числа из полученного набора банкомат находит НОД с введеным пользователем паролем и возвращает медиану из полученных НОДов. \n",
    "\n",
    "**Комментарии**:\n",
    "\n",
    "1) Поток клиентов большой, операции повторяющиеся - хорошо бы, чтобы со временем банкомат отвечал быстрее на запросы.\n",
    "\n",
    "2) За неполное решение также дается часть баллов.\n",
    "\n",
    "**Ключевые слова**: lru_cache, permutations, алгоритм Евклида"
   ]
  },
  {
   "cell_type": "code",
   "execution_count": 24,
   "metadata": {
    "collapsed": false
   },
   "outputs": [],
   "source": [
    "def devide_into_four(number, n):\n",
    "    \"\"\"\n",
    "        Devide the number into n parts of equal length.\n",
    "        \n",
    "        :param number: Input positive number, its length should be a multiple of n\n",
    "        :type number: int\n",
    "        \n",
    "        :param n: The number of parts to devide, > 0 \n",
    "        :type n: int\n",
    "        \n",
    "        :returns: The number devided into 4 parts of equal length\n",
    "        :rtype: list\n",
    "    \"\"\"\n",
    "    try:\n",
    "        number = int(number)\n",
    "        n = int(n)\n",
    "    except ValueError:\n",
    "        print(\"Wrong number type\")\n",
    "        raise\n",
    "\n",
    "    if number <= 0:\n",
    "        raise ValueError('number should be positive')\n",
    "    if n <= 0:\n",
    "        raise ValueError('n should positive')\n",
    "\n",
    "    number = np.array([x for x in str(number)])\n",
    "\n",
    "    if len(number) % 4 != 0:\n",
    "        raise Exception('Can not devide number into equal parts')\n",
    "\n",
    "    number = [list(x) for x in np.array_split(number, n)]\n",
    "    return [int(\"\".join(x)) for x in number]\n",
    "\n",
    "\n",
    "# devide_into_four(1234567890123355, 4)\n",
    "# devide_into_four(12434, 4)"
   ]
  },
  {
   "cell_type": "code",
   "execution_count": 25,
   "metadata": {
    "collapsed": false
   },
   "outputs": [],
   "source": [
    "from functools import lru_cache\n",
    "import sys\n",
    "sys.setrecursionlimit(30100)\n",
    "\n",
    "\n",
    "@lru_cache(maxsize=None)\n",
    "def calculate_fibonacci(number):\n",
    "    \"\"\"\n",
    "        Calculate fibonacci of given number.\n",
    "        \n",
    "        :param number: Input positive number\n",
    "        :type number: int\n",
    "        \n",
    "        :returns: Fibonacci of given number\n",
    "        :rtype: int\n",
    "    \"\"\"\n",
    "    try:\n",
    "        number = int(number)\n",
    "    except ValueError:\n",
    "        print(\"Wrong number type\")\n",
    "        raise\n",
    "\n",
    "    if number <= 0:\n",
    "        raise ValueError('number should be positive')\n",
    "\n",
    "    if (number == 1) or (number == 2):\n",
    "        return 1\n",
    "    else:\n",
    "        return calculate_fibonacci(number - 1) + calculate_fibonacci(number - 2)\n",
    "\n",
    "\n",
    "# calculate_fibonacci(9999)"
   ]
  },
  {
   "cell_type": "code",
   "execution_count": 26,
   "metadata": {
    "collapsed": false
   },
   "outputs": [],
   "source": [
    "def calculate_GCD(n1, n2):\n",
    "    \"\"\"\n",
    "        Finds the greatest common divider of n1 and n2 with Euclidean algorithm.\n",
    "        \n",
    "        :param n1: Input positive number 1\n",
    "        :type n1: int\n",
    "        \n",
    "        :param n2: Input positive number 2\n",
    "        :type n2: int\n",
    "        \n",
    "        :returns: The greatest common divider of n1 and n2\n",
    "        :rtype: int\n",
    "    \"\"\"\n",
    "    try:\n",
    "        n1 = int(n1)\n",
    "        n2 = int(n2)\n",
    "    except ValueError:\n",
    "        print(\"Wrong number type\")\n",
    "        raise\n",
    "\n",
    "    if n1 <= 0:\n",
    "        raise ValueError('n1 should be positive')\n",
    "    if n2 <= 0:\n",
    "        raise ValueError('n2 should positive')\n",
    "\n",
    "    while (n1 != 0) and (n2 != 0):\n",
    "        if n1 > n2:\n",
    "            n1 = n1 % n2\n",
    "        else:\n",
    "            n2 = n2 % n1\n",
    "    return n1 + n2\n",
    "\n",
    "\n",
    "# calculate_GCD(10,5)\n",
    "# calculate_GCD(\"s10\",5)"
   ]
  },
  {
   "cell_type": "code",
   "execution_count": 27,
   "metadata": {
    "collapsed": false
   },
   "outputs": [],
   "source": [
    "def calculate_median(array):\n",
    "    \"\"\"\n",
    "        Calculate the median of the array.\n",
    "        \n",
    "        :param array: Input array, length > 0\n",
    "        :type array: list\n",
    "        \n",
    "        :returns: The median of the array\n",
    "        :rtype: {int, float}\n",
    "    \"\"\"\n",
    "    if not isinstance(array, list):\n",
    "        raise TypeError(\"Wrong number type for %s \" % array)\n",
    "\n",
    "    len_array = len(array)\n",
    "\n",
    "    if len_array == 0:\n",
    "        raise Exception(\"Can not find median of empty array\")\n",
    "\n",
    "    array = sorted(array)\n",
    "    idx_median = (len_array - 1) // 2\n",
    "    if len_array % 2 == 1:\n",
    "        return array[idx_median]\n",
    "    else:\n",
    "        return (array[idx_median] + array[idx_median + 1]) / 2\n",
    "    return\n",
    "\n",
    "\n",
    "# calculate_median([1,2,3,4])\n",
    "# calculate_median([5,2,6,1,2])\n",
    "# calculate_median([5.1,2.2,6.3,1.2,2.2])\n",
    "# calculate_median([])"
   ]
  },
  {
   "cell_type": "code",
   "execution_count": 28,
   "metadata": {
    "collapsed": false
   },
   "outputs": [
    {
     "data": {
      "text/plain": [
       "18.0"
      ]
     },
     "execution_count": 28,
     "metadata": {},
     "output_type": "execute_result"
    }
   ],
   "source": [
    "from itertools import permutations\n",
    "\n",
    "\n",
    "def ATM(card, pin):\n",
    "    \"\"\"\n",
    "        Reads the number of the card inserted into ATM, parses it \n",
    "        into 4 equal parts and generates 4 Fibonacci numbers with \n",
    "        numbers corresponding to the parched parts. Then it generates \n",
    "        numbers from all kinds of permutations of the obtained \n",
    "        Fibonacci numbers (concatenation). For each number from the \n",
    "        set received, the ATM finds a GCD with the password entered \n",
    "        by the user and returns the median of the received GCDs.\n",
    "        \n",
    "        :param card: Input positive card number\n",
    "        :type card: int\n",
    "        \n",
    "        :param card: Input positive card number\n",
    "        :type card: int\n",
    "        \n",
    "        :returns: The median of the array described above.\n",
    "        :rtype: {int, float}\n",
    "    \"\"\"\n",
    "    try:\n",
    "        card = int(card)\n",
    "        pin = int(pin)\n",
    "    except ValueError:\n",
    "        print(\"Wrong number type\")\n",
    "        raise\n",
    "\n",
    "    if card <= 0:\n",
    "        raise ValueError('card should be positive')\n",
    "    if pin <= 0:\n",
    "        raise ValueError('pin should positive')\n",
    "\n",
    "    len_card = len(str(card))\n",
    "    nums = devide_into_four(card, 4)\n",
    "    fibs = [calculate_fibonacci(x) for x in nums]\n",
    "    perm = list(permutations(fibs))\n",
    "    perm_join = [int(\"\".join([str(x) for x in p])) for p in perm]\n",
    "    gcfs = [calculate_GCD(x, pin) for x in perm_join]\n",
    "    return calculate_median(gcfs)\n",
    "\n",
    "\n",
    "# ATM('4444', 1245)\n",
    "# ATM(4444, 1245)\n",
    "ATM(4444888305382092, 1242)"
   ]
  },
  {
   "cell_type": "markdown",
   "metadata": {},
   "source": [
    "### Домашнее задание №3 [0 - 0.1 балла]\n",
    "\n",
    "**Условие:**\n",
    "    \n",
    "Сравнить скорость работы и потребление памяти list и deque.\n",
    "\n",
    "**Комментарий:**\n",
    "\n",
    "Количесвто баллов зависит от полноты сравнения."
   ]
  },
  {
   "cell_type": "code",
   "execution_count": 29,
   "metadata": {
    "collapsed": true
   },
   "outputs": [],
   "source": [
    "import numpy as np"
   ]
  },
  {
   "cell_type": "code",
   "execution_count": 30,
   "metadata": {
    "collapsed": false
   },
   "outputs": [
    {
     "name": "stdout",
     "output_type": "stream",
     "text": [
      "deque / append : 0.006 \n",
      "deque / appendleft : 0.005 \n",
      "deque / pop : 0.006 \n",
      "deque / popleft : 0.005 \n",
      "deque / remove : 0.007 \n",
      "deque / rotate : 0.427 \n",
      "deque / count : 36.566 \n",
      "deque / insert : 1.592 \n",
      "deque / index : 18.878 \n",
      "-------------------------------------\n",
      "list / append : 0.005 \n",
      "list / appendleft : 2.535 \n",
      "list / pop : 0.007 \n",
      "list / popleft : 0.482 \n",
      "list / remove : 0.471 \n",
      "list / rotate : 0.007 \n",
      "list / count : 33.820 \n",
      "list / insert : 1.711 \n",
      "list / index : 17.353 \n",
      "-------------------------------------\n"
     ]
    }
   ],
   "source": [
    "import time\n",
    "from collections import deque\n",
    "\n",
    "N = 50000\n",
    "\n",
    "types = [deque, list]\n",
    "\n",
    "\n",
    "def append(x):\n",
    "    \"\"\"\n",
    "        Append N elements to the end of array\n",
    "        \n",
    "        :param x: Input array\n",
    "        :type x: deque / list\n",
    "    \"\"\"\n",
    "    if not isinstance(x, tuple(types)):\n",
    "        raise ValueError(\"Wrong number type for x\")\n",
    "\n",
    "    for i in range(N):\n",
    "        x.append(i)\n",
    "\n",
    "\n",
    "def appendleft(x):\n",
    "    \"\"\"\n",
    "        Append N elements to the begining of array\n",
    "        \n",
    "        :param x: Input array\n",
    "        :type x: deque / list\n",
    "    \"\"\"\n",
    "    if not isinstance(x, tuple(types)):\n",
    "        raise ValueError(\"Wrong number type for x\")\n",
    "\n",
    "    if isinstance(x, deque):\n",
    "        for i in range(N):\n",
    "            x.appendleft(i)\n",
    "    else:\n",
    "        for i in range(N):\n",
    "            x.insert(0, i)\n",
    "\n",
    "\n",
    "def pop(x):\n",
    "    \"\"\"\n",
    "        Delete N elements from the end of array\n",
    "        \n",
    "        :param x: Input array\n",
    "        :type x: deque / list\n",
    "    \"\"\"\n",
    "    if not isinstance(x, tuple(types)):\n",
    "        raise ValueError(\"Wrong number type for x\")\n",
    "        \n",
    "    if len(x) == 0:\n",
    "        raise ValueError(\"Can not pop elements from empty list / deque\")\n",
    "\n",
    "    for i in range(N):\n",
    "        x.pop()\n",
    "\n",
    "\n",
    "def popleft(x):\n",
    "    \"\"\"\n",
    "        Delete N elements from the begining of array\n",
    "        \n",
    "        :param x: Input array\n",
    "        :type x: deque / list\n",
    "    \"\"\"\n",
    "    if not isinstance(x, tuple(types)):\n",
    "        raise ValueError(\"Wrong number type for x\")\n",
    "        \n",
    "    if len(x) == 0:\n",
    "        raise ValueError(\"Can not pop elements from empty list / deque\")\n",
    "\n",
    "    if isinstance(x, deque):\n",
    "        for i in range(N):\n",
    "            x.popleft()\n",
    "    else:\n",
    "        for i in range(N):\n",
    "            x.pop(0)\n",
    "\n",
    "\n",
    "def remove(x):\n",
    "    \"\"\"\n",
    "        Remove the first occurrence of values in range [0, N]\n",
    "        \n",
    "        :param x: Input array\n",
    "        :type x: deque / list\n",
    "    \"\"\"\n",
    "    if not isinstance(x, tuple(types)):\n",
    "        raise ValueError(\"Wrong number type for x\")\n",
    "\n",
    "    if len(x) == 0:\n",
    "        raise ValueError(\"Can not remove elements from empty list / deque\")\n",
    "    \n",
    "    for i in range(N):\n",
    "        x.remove(i)\n",
    "\n",
    "\n",
    "def rotate(x):\n",
    "    \"\"\"\n",
    "        Rotate the array n steps to the right. n in range [0,N]\n",
    "        \n",
    "        :param x: Input array\n",
    "        :type x: deque / list\n",
    "    \"\"\"\n",
    "    if not isinstance(x, tuple(types)):\n",
    "        raise ValueError(\"Wrong number type for x\")\n",
    "        \n",
    "    if len(x) == 0:\n",
    "        raise ValueError(\"Can not rotate elements from empty list / deque\")\n",
    "\n",
    "    if isinstance(x, deque):\n",
    "        for i in range(N):\n",
    "            x.rotate(i)\n",
    "    else:\n",
    "        for i in range(10, -1, -1):\n",
    "            x[i:] + x[:i]\n",
    "\n",
    "\n",
    "def count(x):\n",
    "    \"\"\"\n",
    "        Count the number of array elements equal to n, n in range [0,N].\n",
    "        \n",
    "        :param x: Input array\n",
    "        :type x: deque / list\n",
    "    \"\"\"\n",
    "    if not isinstance(x, tuple(types)):\n",
    "        raise ValueError(\"Wrong number type for x\")\n",
    "\n",
    "    for i in range(N):\n",
    "        x.count(i)\n",
    "\n",
    "\n",
    "def insert(x):\n",
    "    \"\"\"\n",
    "        Insert n into the deque at position 1, n in range [0,N].\n",
    "        \n",
    "        :param x: Input array\n",
    "        :type x: deque / list\n",
    "    \"\"\"\n",
    "    if not isinstance(x, tuple(types)):\n",
    "        raise ValueError(\"Wrong number type for x\")\n",
    "\n",
    "    for i in range(N):\n",
    "        x.insert(i, 1)\n",
    "\n",
    "\n",
    "def index(x):\n",
    "    \"\"\"\n",
    "        Return the position of n in the array, n in range [0,N].\n",
    "        \n",
    "        :param x: Input array\n",
    "        :type x: deque / list\n",
    "    \"\"\"\n",
    "    if not isinstance(x, tuple(types)):\n",
    "        raise ValueError(\"Wrong number type for x\")\n",
    "        \n",
    "    if len(x) == 0:\n",
    "        raise ValueError(\"Can not index elements from empty list / deque\")\n",
    "\n",
    "    for i in range(N):\n",
    "        x.index(i)\n",
    "\n",
    "\n",
    "funcs = [\n",
    "    append, appendleft, pop, popleft, remove, rotate, count, insert, index\n",
    "]\n",
    "\n",
    "for type in types:\n",
    "    for func in funcs:\n",
    "        array = type(range(N))\n",
    "        st = time.time()\n",
    "        func(array)\n",
    "        et = time.time()\n",
    "        alltime = et - st\n",
    "        print(\"%s / %s : %.3f \" % (type.__name__, func.__name__, alltime))\n",
    "\n",
    "    print('-------------------------------------')"
   ]
  },
  {
   "cell_type": "markdown",
   "metadata": {},
   "source": [
    "### Домашнее задание №4 [0 - 0.1 балла]\n",
    "\n",
    "**Условие:**\n",
    "    \n",
    "Написать аналог permutations и провести сравнение скорости работы и потребления памяти.\n",
    "\n",
    "**Комментарий:**\n",
    "\n",
    "Количесвто баллов зависит от полноты сравнения."
   ]
  },
  {
   "cell_type": "code",
   "execution_count": 39,
   "metadata": {
    "collapsed": false
   },
   "outputs": [],
   "source": [
    "def my_permutations(array):\n",
    "    \"\"\"\n",
    "        Return permutations of elements in array\n",
    "        \n",
    "        :param array: Input array, length > 0\n",
    "        :type array: list\n",
    "        \n",
    "        :returns: Permutations of elements in array\n",
    "        :rtype: list\n",
    "    \"\"\"         \n",
    "    array = list(array)\n",
    "    len_array = len(array)\n",
    "    \n",
    "\n",
    "    if len_array <= 1: \n",
    "        return [array] \n",
    "  \n",
    "    final_perm = [] \n",
    "    for i in range(len_array): \n",
    "        for perm in my_permutations(array[:i] + array[i+1:]): \n",
    "            final_perm.append([array[i]] + perm)\n",
    "\n",
    "    return final_perm "
   ]
  },
  {
   "cell_type": "code",
   "execution_count": 40,
   "metadata": {
    "collapsed": false
   },
   "outputs": [
    {
     "name": "stdout",
     "output_type": "stream",
     "text": [
      "True\n"
     ]
    }
   ],
   "source": [
    "arr = [1,2,3,3,1,2,4]\n",
    "# arr = ['1','2','3']\n",
    "# arr = []\n",
    "print(len(my_permutations(arr)) == len(list(permutations(arr))))"
   ]
  },
  {
   "cell_type": "code",
   "execution_count": 41,
   "metadata": {
    "collapsed": false
   },
   "outputs": [
    {
     "name": "stdout",
     "output_type": "stream",
     "text": [
      "Random array: [2 1 2 2 0 2 2 1 2 1]\n",
      "permutations : 1.4781951904296875e-05\n",
      "my_permutations : 26.42048716545105\n"
     ]
    }
   ],
   "source": [
    "funcs = [permutations, my_permutations]\n",
    "np.random.seed(123)\n",
    "array = np.random.randint(3, size=10)\n",
    "print('Random array:', array)\n",
    "\n",
    "for func in funcs:\n",
    "    st = time.time()\n",
    "    func(array)\n",
    "    et = time.time()\n",
    "    alltime = et - st\n",
    "    print(func.__name__, ':', alltime)"
   ]
  },
  {
   "cell_type": "code",
   "execution_count": null,
   "metadata": {
    "collapsed": true
   },
   "outputs": [],
   "source": []
  }
 ],
 "metadata": {
  "kernelspec": {
   "display_name": "Python 3",
   "language": "python",
   "name": "python3"
  },
  "language_info": {
   "codemirror_mode": {
    "name": "ipython",
    "version": 3
   },
   "file_extension": ".py",
   "mimetype": "text/x-python",
   "name": "python",
   "nbconvert_exporter": "python",
   "pygments_lexer": "ipython3",
   "version": "3.6.8"
  }
 },
 "nbformat": 4,
 "nbformat_minor": 2
}
